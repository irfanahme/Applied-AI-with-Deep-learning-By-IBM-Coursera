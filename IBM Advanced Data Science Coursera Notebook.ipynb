{
 "cells": [
  {
   "cell_type": "markdown",
   "metadata": {},
   "source": [
    "# IBM Advanced Data Science Coursera Notebook"
   ]
  },
  {
   "cell_type": "markdown",
   "metadata": {},
   "source": [
    "## This is the code that I have completed for my IBM Advanced Data Science certification."
   ]
  },
  {
   "cell_type": "markdown",
   "metadata": {},
   "source": [
    "### Step 1: Import the relevant packages."
   ]
  },
  {
   "cell_type": "code",
   "execution_count": 1,
   "metadata": {},
   "outputs": [],
   "source": [
    "import pandas as pd\n",
    "import numpy as np\n",
    "import matplotlib.pyplot as plt\n",
    "import seaborn as sns\n",
    "\n",
    "from sklearn.preprocessing import StandardScaler\n",
    "from sklearn.model_selection import train_test_split\n",
    "from sklearn import metrics\n",
    "from sklearn.linear_model import LinearRegression\n",
    "from sklearn.ensemble import RandomForestRegressor\n",
    "from sklearn.cluster import KMeans\n",
    "from sklearn.neural_network import MLPRegressor\n",
    "from sklearn.linear_model import LogisticRegression"
   ]
  },
  {
   "cell_type": "markdown",
   "metadata": {},
   "source": [
    "### Step 2: Import the Datasets using Pandas."
   ]
  },
  {
   "cell_type": "code",
   "execution_count": 2,
   "metadata": {},
   "outputs": [],
   "source": [
    "total_job_adverts = pd.read_csv(\"Jobs_1.csv\")"
   ]
  },
  {
   "cell_type": "code",
   "execution_count": 3,
   "metadata": {},
   "outputs": [],
   "source": [
    "virus_cases = pd.read_csv(\"Cases.csv\")"
   ]
  },
  {
   "cell_type": "markdown",
   "metadata": {},
   "source": [
    "### Step 3: Double Check to see they have been successfully imported."
   ]
  },
  {
   "cell_type": "code",
   "execution_count": 4,
   "metadata": {},
   "outputs": [
    {
     "data": {
      "text/html": [
       "<div>\n",
       "<style scoped>\n",
       "    .dataframe tbody tr th:only-of-type {\n",
       "        vertical-align: middle;\n",
       "    }\n",
       "\n",
       "    .dataframe tbody tr th {\n",
       "        vertical-align: top;\n",
       "    }\n",
       "\n",
       "    .dataframe thead th {\n",
       "        text-align: right;\n",
       "    }\n",
       "</style>\n",
       "<table border=\"1\" class=\"dataframe\">\n",
       "  <thead>\n",
       "    <tr style=\"text-align: right;\">\n",
       "      <th></th>\n",
       "      <th>Total job adverts by Adzuna Category, UK, Index 2019 average = 100</th>\n",
       "      <th>Unnamed: 1</th>\n",
       "      <th>Unnamed: 2</th>\n",
       "      <th>Unnamed: 3</th>\n",
       "      <th>Unnamed: 4</th>\n",
       "      <th>Unnamed: 5</th>\n",
       "      <th>Unnamed: 6</th>\n",
       "      <th>Unnamed: 7</th>\n",
       "      <th>Unnamed: 8</th>\n",
       "      <th>Unnamed: 9</th>\n",
       "      <th>...</th>\n",
       "      <th>Unnamed: 154</th>\n",
       "      <th>Unnamed: 155</th>\n",
       "      <th>Unnamed: 156</th>\n",
       "      <th>Unnamed: 157</th>\n",
       "      <th>Unnamed: 158</th>\n",
       "      <th>Unnamed: 159</th>\n",
       "      <th>Unnamed: 160</th>\n",
       "      <th>Unnamed: 161</th>\n",
       "      <th>Unnamed: 162</th>\n",
       "      <th>Unnamed: 163</th>\n",
       "    </tr>\n",
       "  </thead>\n",
       "  <tbody>\n",
       "    <tr>\n",
       "      <th>0</th>\n",
       "      <td>NaN</td>\n",
       "      <td>NaN</td>\n",
       "      <td>NaN</td>\n",
       "      <td>NaN</td>\n",
       "      <td>NaN</td>\n",
       "      <td>NaN</td>\n",
       "      <td>NaN</td>\n",
       "      <td>NaN</td>\n",
       "      <td>NaN</td>\n",
       "      <td>NaN</td>\n",
       "      <td>...</td>\n",
       "      <td>NaN</td>\n",
       "      <td>NaN</td>\n",
       "      <td>NaN</td>\n",
       "      <td>NaN</td>\n",
       "      <td>NaN</td>\n",
       "      <td>NaN</td>\n",
       "      <td>NaN</td>\n",
       "      <td>NaN</td>\n",
       "      <td>NaN</td>\n",
       "      <td>NaN</td>\n",
       "    </tr>\n",
       "    <tr>\n",
       "      <th>1</th>\n",
       "      <td>Date</td>\n",
       "      <td>07/02/2018</td>\n",
       "      <td>15/02/2018</td>\n",
       "      <td>22/02/2018</td>\n",
       "      <td>01/03/2018</td>\n",
       "      <td>08/03/2018</td>\n",
       "      <td>15/03/2018</td>\n",
       "      <td>22/03/2018</td>\n",
       "      <td>29/03/2018</td>\n",
       "      <td>05/04/2018</td>\n",
       "      <td>...</td>\n",
       "      <td>15/01/2021</td>\n",
       "      <td>22/01/2021</td>\n",
       "      <td>29/01/2021</td>\n",
       "      <td>05/02/2021</td>\n",
       "      <td>12/02/2021</td>\n",
       "      <td>19/02/2021</td>\n",
       "      <td>26/02/2021</td>\n",
       "      <td>05/03/2021</td>\n",
       "      <td>NaN</td>\n",
       "      <td>NaN</td>\n",
       "    </tr>\n",
       "    <tr>\n",
       "      <th>2</th>\n",
       "      <td>Manufacturing</td>\n",
       "      <td>126.3</td>\n",
       "      <td>137.3</td>\n",
       "      <td>137.7</td>\n",
       "      <td>133.4</td>\n",
       "      <td>121.7</td>\n",
       "      <td>138.2</td>\n",
       "      <td>133.8</td>\n",
       "      <td>129.4</td>\n",
       "      <td>129.9</td>\n",
       "      <td>...</td>\n",
       "      <td>55.7</td>\n",
       "      <td>68.3</td>\n",
       "      <td>76.8</td>\n",
       "      <td>76.0</td>\n",
       "      <td>80.3</td>\n",
       "      <td>84.9</td>\n",
       "      <td>89.6</td>\n",
       "      <td>85.9</td>\n",
       "      <td>NaN</td>\n",
       "      <td>NaN</td>\n",
       "    </tr>\n",
       "    <tr>\n",
       "      <th>3</th>\n",
       "      <td>Energy / oil &amp; gas</td>\n",
       "      <td>120.9</td>\n",
       "      <td>126.1</td>\n",
       "      <td>124.9</td>\n",
       "      <td>125.0</td>\n",
       "      <td>123.4</td>\n",
       "      <td>145.3</td>\n",
       "      <td>142.6</td>\n",
       "      <td>139.9</td>\n",
       "      <td>185.9</td>\n",
       "      <td>...</td>\n",
       "      <td>58.3</td>\n",
       "      <td>80.7</td>\n",
       "      <td>78.5</td>\n",
       "      <td>81.9</td>\n",
       "      <td>80.0</td>\n",
       "      <td>81.9</td>\n",
       "      <td>83.8</td>\n",
       "      <td>79.5</td>\n",
       "      <td>NaN</td>\n",
       "      <td>NaN</td>\n",
       "    </tr>\n",
       "    <tr>\n",
       "      <th>4</th>\n",
       "      <td>Construction / trades</td>\n",
       "      <td>111.6</td>\n",
       "      <td>110.5</td>\n",
       "      <td>109.2</td>\n",
       "      <td>108.7</td>\n",
       "      <td>91.7</td>\n",
       "      <td>105.7</td>\n",
       "      <td>104.6</td>\n",
       "      <td>103.5</td>\n",
       "      <td>101.6</td>\n",
       "      <td>...</td>\n",
       "      <td>75.8</td>\n",
       "      <td>94.5</td>\n",
       "      <td>105.6</td>\n",
       "      <td>94.3</td>\n",
       "      <td>111.2</td>\n",
       "      <td>111.9</td>\n",
       "      <td>112.6</td>\n",
       "      <td>121.6</td>\n",
       "      <td>NaN</td>\n",
       "      <td>NaN</td>\n",
       "    </tr>\n",
       "  </tbody>\n",
       "</table>\n",
       "<p>5 rows × 164 columns</p>\n",
       "</div>"
      ],
      "text/plain": [
       "  Total job adverts by Adzuna Category, UK, Index 2019 average = 100  \\\n",
       "0                                                NaN                   \n",
       "1                                               Date                   \n",
       "2                                      Manufacturing                   \n",
       "3                                 Energy / oil & gas                   \n",
       "4                              Construction / trades                   \n",
       "\n",
       "   Unnamed: 1  Unnamed: 2  Unnamed: 3  Unnamed: 4  Unnamed: 5  Unnamed: 6  \\\n",
       "0         NaN         NaN         NaN         NaN         NaN         NaN   \n",
       "1  07/02/2018  15/02/2018  22/02/2018  01/03/2018  08/03/2018  15/03/2018   \n",
       "2       126.3       137.3       137.7       133.4       121.7       138.2   \n",
       "3       120.9       126.1       124.9       125.0       123.4       145.3   \n",
       "4       111.6       110.5       109.2       108.7        91.7       105.7   \n",
       "\n",
       "   Unnamed: 7  Unnamed: 8  Unnamed: 9  ... Unnamed: 154 Unnamed: 155  \\\n",
       "0         NaN         NaN         NaN  ...          NaN          NaN   \n",
       "1  22/03/2018  29/03/2018  05/04/2018  ...   15/01/2021   22/01/2021   \n",
       "2       133.8       129.4       129.9  ...         55.7         68.3   \n",
       "3       142.6       139.9       185.9  ...         58.3         80.7   \n",
       "4       104.6       103.5       101.6  ...         75.8         94.5   \n",
       "\n",
       "  Unnamed: 156 Unnamed: 157 Unnamed: 158 Unnamed: 159 Unnamed: 160  \\\n",
       "0          NaN          NaN          NaN          NaN          NaN   \n",
       "1   29/01/2021   05/02/2021   12/02/2021   19/02/2021   26/02/2021   \n",
       "2         76.8         76.0         80.3         84.9         89.6   \n",
       "3         78.5         81.9         80.0         81.9         83.8   \n",
       "4        105.6         94.3        111.2        111.9        112.6   \n",
       "\n",
       "  Unnamed: 161 Unnamed: 162 Unnamed: 163  \n",
       "0          NaN          NaN          NaN  \n",
       "1   05/03/2021          NaN          NaN  \n",
       "2         85.9          NaN          NaN  \n",
       "3         79.5          NaN          NaN  \n",
       "4        121.6          NaN          NaN  \n",
       "\n",
       "[5 rows x 164 columns]"
      ]
     },
     "execution_count": 4,
     "metadata": {},
     "output_type": "execute_result"
    }
   ],
   "source": [
    "total_job_adverts.head()"
   ]
  },
  {
   "cell_type": "code",
   "execution_count": 5,
   "metadata": {},
   "outputs": [
    {
     "data": {
      "text/html": [
       "<div>\n",
       "<style scoped>\n",
       "    .dataframe tbody tr th:only-of-type {\n",
       "        vertical-align: middle;\n",
       "    }\n",
       "\n",
       "    .dataframe tbody tr th {\n",
       "        vertical-align: top;\n",
       "    }\n",
       "\n",
       "    .dataframe thead th {\n",
       "        text-align: right;\n",
       "    }\n",
       "</style>\n",
       "<table border=\"1\" class=\"dataframe\">\n",
       "  <thead>\n",
       "    <tr style=\"text-align: right;\">\n",
       "      <th></th>\n",
       "      <th>areaType</th>\n",
       "      <th>areaName</th>\n",
       "      <th>areaCode</th>\n",
       "      <th>date</th>\n",
       "      <th>newCasesBySpecimenDate</th>\n",
       "      <th>cumCasesBySpecimenDate</th>\n",
       "    </tr>\n",
       "  </thead>\n",
       "  <tbody>\n",
       "    <tr>\n",
       "      <th>0</th>\n",
       "      <td>overview</td>\n",
       "      <td>United Kingdom</td>\n",
       "      <td>K02000001</td>\n",
       "      <td>2021-03-11</td>\n",
       "      <td>2173</td>\n",
       "      <td>4248286</td>\n",
       "    </tr>\n",
       "    <tr>\n",
       "      <th>1</th>\n",
       "      <td>overview</td>\n",
       "      <td>United Kingdom</td>\n",
       "      <td>K02000001</td>\n",
       "      <td>2021-03-10</td>\n",
       "      <td>5595</td>\n",
       "      <td>4246113</td>\n",
       "    </tr>\n",
       "    <tr>\n",
       "      <th>2</th>\n",
       "      <td>overview</td>\n",
       "      <td>United Kingdom</td>\n",
       "      <td>K02000001</td>\n",
       "      <td>2021-03-09</td>\n",
       "      <td>6208</td>\n",
       "      <td>4240518</td>\n",
       "    </tr>\n",
       "    <tr>\n",
       "      <th>3</th>\n",
       "      <td>overview</td>\n",
       "      <td>United Kingdom</td>\n",
       "      <td>K02000001</td>\n",
       "      <td>2021-03-08</td>\n",
       "      <td>6790</td>\n",
       "      <td>4234310</td>\n",
       "    </tr>\n",
       "    <tr>\n",
       "      <th>4</th>\n",
       "      <td>overview</td>\n",
       "      <td>United Kingdom</td>\n",
       "      <td>K02000001</td>\n",
       "      <td>2021-03-07</td>\n",
       "      <td>4314</td>\n",
       "      <td>4227520</td>\n",
       "    </tr>\n",
       "  </tbody>\n",
       "</table>\n",
       "</div>"
      ],
      "text/plain": [
       "   areaType        areaName   areaCode        date  newCasesBySpecimenDate  \\\n",
       "0  overview  United Kingdom  K02000001  2021-03-11                    2173   \n",
       "1  overview  United Kingdom  K02000001  2021-03-10                    5595   \n",
       "2  overview  United Kingdom  K02000001  2021-03-09                    6208   \n",
       "3  overview  United Kingdom  K02000001  2021-03-08                    6790   \n",
       "4  overview  United Kingdom  K02000001  2021-03-07                    4314   \n",
       "\n",
       "   cumCasesBySpecimenDate  \n",
       "0                 4248286  \n",
       "1                 4246113  \n",
       "2                 4240518  \n",
       "3                 4234310  \n",
       "4                 4227520  "
      ]
     },
     "execution_count": 5,
     "metadata": {},
     "output_type": "execute_result"
    }
   ],
   "source": [
    "virus_cases.head()"
   ]
  },
  {
   "cell_type": "markdown",
   "metadata": {},
   "source": [
    "### Step 4: Clean the total job adverts dataset."
   ]
  },
  {
   "cell_type": "code",
   "execution_count": 6,
   "metadata": {},
   "outputs": [],
   "source": [
    "# Drop the row of Nan values.\n",
    "total_job_adverts = total_job_adverts.drop([0])"
   ]
  },
  {
   "cell_type": "code",
   "execution_count": 7,
   "metadata": {},
   "outputs": [],
   "source": [
    "# Drop the extra empty row values from our dataset.\n",
    "total_job_adverts = total_job_adverts.drop(total_job_adverts.index[31:69])"
   ]
  },
  {
   "cell_type": "code",
   "execution_count": 8,
   "metadata": {},
   "outputs": [],
   "source": [
    "# Set Date as the new header and remove it as a column value.\n",
    "header = total_job_adverts.iloc[0] \n",
    "total_job_adverts = total_job_adverts[1:] \n",
    "total_job_adverts.columns = header"
   ]
  },
  {
   "cell_type": "code",
   "execution_count": 9,
   "metadata": {},
   "outputs": [],
   "source": [
    "# Drop values for the time preceeding the Covid Pandemic, this data may be useful though to compare year on year.\n",
    "total_job_adverts= total_job_adverts.drop(total_job_adverts.iloc[:, 1:104], axis = 1)"
   ]
  },
  {
   "cell_type": "code",
   "execution_count": 10,
   "metadata": {},
   "outputs": [
    {
     "data": {
      "text/html": [
       "<div>\n",
       "<style scoped>\n",
       "    .dataframe tbody tr th:only-of-type {\n",
       "        vertical-align: middle;\n",
       "    }\n",
       "\n",
       "    .dataframe tbody tr th {\n",
       "        vertical-align: top;\n",
       "    }\n",
       "\n",
       "    .dataframe thead th {\n",
       "        text-align: right;\n",
       "    }\n",
       "</style>\n",
       "<table border=\"1\" class=\"dataframe\">\n",
       "  <thead>\n",
       "    <tr style=\"text-align: right;\">\n",
       "      <th>1</th>\n",
       "      <th>Date</th>\n",
       "      <th>30/01/2020</th>\n",
       "      <th>07/02/2020</th>\n",
       "      <th>13/02/2020</th>\n",
       "      <th>21/02/2020</th>\n",
       "      <th>27/02/2020</th>\n",
       "      <th>06/03/2020</th>\n",
       "      <th>12/03/2020</th>\n",
       "      <th>20/03/2020</th>\n",
       "      <th>27/03/2020</th>\n",
       "      <th>...</th>\n",
       "      <th>31/12/2020</th>\n",
       "      <th>08/01/2021</th>\n",
       "      <th>15/01/2021</th>\n",
       "      <th>22/01/2021</th>\n",
       "      <th>29/01/2021</th>\n",
       "      <th>05/02/2021</th>\n",
       "      <th>12/02/2021</th>\n",
       "      <th>19/02/2021</th>\n",
       "      <th>26/02/2021</th>\n",
       "      <th>05/03/2021</th>\n",
       "    </tr>\n",
       "  </thead>\n",
       "  <tbody>\n",
       "    <tr>\n",
       "      <th>2</th>\n",
       "      <td>Manufacturing</td>\n",
       "      <td>63.6</td>\n",
       "      <td>62.5</td>\n",
       "      <td>62.6</td>\n",
       "      <td>48.6</td>\n",
       "      <td>60.1</td>\n",
       "      <td>66.1</td>\n",
       "      <td>53.4</td>\n",
       "      <td>58.7</td>\n",
       "      <td>50.0</td>\n",
       "      <td>...</td>\n",
       "      <td>64.7</td>\n",
       "      <td>63.4</td>\n",
       "      <td>55.7</td>\n",
       "      <td>68.3</td>\n",
       "      <td>76.8</td>\n",
       "      <td>76.0</td>\n",
       "      <td>80.3</td>\n",
       "      <td>84.9</td>\n",
       "      <td>89.6</td>\n",
       "      <td>85.9</td>\n",
       "    </tr>\n",
       "    <tr>\n",
       "      <th>3</th>\n",
       "      <td>Energy / oil &amp; gas</td>\n",
       "      <td>119.5</td>\n",
       "      <td>107.3</td>\n",
       "      <td>113.0</td>\n",
       "      <td>103.9</td>\n",
       "      <td>113.7</td>\n",
       "      <td>122.5</td>\n",
       "      <td>95.0</td>\n",
       "      <td>98.6</td>\n",
       "      <td>75.4</td>\n",
       "      <td>...</td>\n",
       "      <td>66.4</td>\n",
       "      <td>71.3</td>\n",
       "      <td>58.3</td>\n",
       "      <td>80.7</td>\n",
       "      <td>78.5</td>\n",
       "      <td>81.9</td>\n",
       "      <td>80.0</td>\n",
       "      <td>81.9</td>\n",
       "      <td>83.8</td>\n",
       "      <td>79.5</td>\n",
       "    </tr>\n",
       "    <tr>\n",
       "      <th>4</th>\n",
       "      <td>Construction / trades</td>\n",
       "      <td>87.3</td>\n",
       "      <td>87.7</td>\n",
       "      <td>89.1</td>\n",
       "      <td>81.1</td>\n",
       "      <td>84.3</td>\n",
       "      <td>95.2</td>\n",
       "      <td>81.0</td>\n",
       "      <td>82.4</td>\n",
       "      <td>69.5</td>\n",
       "      <td>...</td>\n",
       "      <td>80.7</td>\n",
       "      <td>80.5</td>\n",
       "      <td>75.8</td>\n",
       "      <td>94.5</td>\n",
       "      <td>105.6</td>\n",
       "      <td>94.3</td>\n",
       "      <td>111.2</td>\n",
       "      <td>111.9</td>\n",
       "      <td>112.6</td>\n",
       "      <td>121.6</td>\n",
       "    </tr>\n",
       "    <tr>\n",
       "      <th>5</th>\n",
       "      <td>Wholesale and retail</td>\n",
       "      <td>83.1</td>\n",
       "      <td>84.0</td>\n",
       "      <td>86.6</td>\n",
       "      <td>82.7</td>\n",
       "      <td>87.8</td>\n",
       "      <td>91.4</td>\n",
       "      <td>79.6</td>\n",
       "      <td>76.2</td>\n",
       "      <td>57.6</td>\n",
       "      <td>...</td>\n",
       "      <td>48.1</td>\n",
       "      <td>48.7</td>\n",
       "      <td>43.4</td>\n",
       "      <td>47.0</td>\n",
       "      <td>54.1</td>\n",
       "      <td>47.9</td>\n",
       "      <td>46.7</td>\n",
       "      <td>47.1</td>\n",
       "      <td>47.5</td>\n",
       "      <td>50.1</td>\n",
       "    </tr>\n",
       "    <tr>\n",
       "      <th>6</th>\n",
       "      <td>Graduate</td>\n",
       "      <td>144.0</td>\n",
       "      <td>148.0</td>\n",
       "      <td>150.1</td>\n",
       "      <td>129.2</td>\n",
       "      <td>129.1</td>\n",
       "      <td>144.9</td>\n",
       "      <td>127.7</td>\n",
       "      <td>125.7</td>\n",
       "      <td>105.2</td>\n",
       "      <td>...</td>\n",
       "      <td>67.4</td>\n",
       "      <td>63.0</td>\n",
       "      <td>60.4</td>\n",
       "      <td>59.3</td>\n",
       "      <td>59.1</td>\n",
       "      <td>67.7</td>\n",
       "      <td>69.1</td>\n",
       "      <td>69.6</td>\n",
       "      <td>70.2</td>\n",
       "      <td>71.5</td>\n",
       "    </tr>\n",
       "  </tbody>\n",
       "</table>\n",
       "<p>5 rows × 59 columns</p>\n",
       "</div>"
      ],
      "text/plain": [
       "1                   Date 30/01/2020 07/02/2020 13/02/2020 21/02/2020  \\\n",
       "2          Manufacturing       63.6       62.5       62.6       48.6   \n",
       "3     Energy / oil & gas      119.5      107.3      113.0      103.9   \n",
       "4  Construction / trades       87.3       87.7       89.1       81.1   \n",
       "5   Wholesale and retail       83.1       84.0       86.6       82.7   \n",
       "6               Graduate      144.0      148.0      150.1      129.2   \n",
       "\n",
       "1 27/02/2020 06/03/2020 12/03/2020 20/03/2020 27/03/2020  ... 31/12/2020  \\\n",
       "2       60.1       66.1       53.4       58.7       50.0  ...       64.7   \n",
       "3      113.7      122.5       95.0       98.6       75.4  ...       66.4   \n",
       "4       84.3       95.2       81.0       82.4       69.5  ...       80.7   \n",
       "5       87.8       91.4       79.6       76.2       57.6  ...       48.1   \n",
       "6      129.1      144.9      127.7      125.7      105.2  ...       67.4   \n",
       "\n",
       "1 08/01/2021 15/01/2021 22/01/2021 29/01/2021 05/02/2021 12/02/2021  \\\n",
       "2       63.4       55.7       68.3       76.8       76.0       80.3   \n",
       "3       71.3       58.3       80.7       78.5       81.9       80.0   \n",
       "4       80.5       75.8       94.5      105.6       94.3      111.2   \n",
       "5       48.7       43.4       47.0       54.1       47.9       46.7   \n",
       "6       63.0       60.4       59.3       59.1       67.7       69.1   \n",
       "\n",
       "1 19/02/2021 26/02/2021 05/03/2021  \n",
       "2       84.9       89.6       85.9  \n",
       "3       81.9       83.8       79.5  \n",
       "4      111.9      112.6      121.6  \n",
       "5       47.1       47.5       50.1  \n",
       "6       69.6       70.2       71.5  \n",
       "\n",
       "[5 rows x 59 columns]"
      ]
     },
     "execution_count": 10,
     "metadata": {},
     "output_type": "execute_result"
    }
   ],
   "source": [
    "# Finally, drop all the na column values.\n",
    "total_job_adverts= total_job_adverts.dropna(axis='columns')\n",
    "total_job_adverts.head()"
   ]
  },
  {
   "cell_type": "markdown",
   "metadata": {},
   "source": [
    "### Step 5: Clean the virus cases dataset"
   ]
  },
  {
   "cell_type": "code",
   "execution_count": 11,
   "metadata": {},
   "outputs": [
    {
     "data": {
      "text/html": [
       "<div>\n",
       "<style scoped>\n",
       "    .dataframe tbody tr th:only-of-type {\n",
       "        vertical-align: middle;\n",
       "    }\n",
       "\n",
       "    .dataframe tbody tr th {\n",
       "        vertical-align: top;\n",
       "    }\n",
       "\n",
       "    .dataframe thead th {\n",
       "        text-align: right;\n",
       "    }\n",
       "</style>\n",
       "<table border=\"1\" class=\"dataframe\">\n",
       "  <thead>\n",
       "    <tr style=\"text-align: right;\">\n",
       "      <th></th>\n",
       "      <th>date</th>\n",
       "      <th>newCasesBySpecimenDate</th>\n",
       "      <th>cumCasesBySpecimenDate</th>\n",
       "    </tr>\n",
       "  </thead>\n",
       "  <tbody>\n",
       "    <tr>\n",
       "      <th>0</th>\n",
       "      <td>2021-03-11</td>\n",
       "      <td>2173</td>\n",
       "      <td>4248286</td>\n",
       "    </tr>\n",
       "    <tr>\n",
       "      <th>1</th>\n",
       "      <td>2021-03-10</td>\n",
       "      <td>5595</td>\n",
       "      <td>4246113</td>\n",
       "    </tr>\n",
       "    <tr>\n",
       "      <th>2</th>\n",
       "      <td>2021-03-09</td>\n",
       "      <td>6208</td>\n",
       "      <td>4240518</td>\n",
       "    </tr>\n",
       "    <tr>\n",
       "      <th>3</th>\n",
       "      <td>2021-03-08</td>\n",
       "      <td>6790</td>\n",
       "      <td>4234310</td>\n",
       "    </tr>\n",
       "    <tr>\n",
       "      <th>4</th>\n",
       "      <td>2021-03-07</td>\n",
       "      <td>4314</td>\n",
       "      <td>4227520</td>\n",
       "    </tr>\n",
       "  </tbody>\n",
       "</table>\n",
       "</div>"
      ],
      "text/plain": [
       "         date  newCasesBySpecimenDate  cumCasesBySpecimenDate\n",
       "0  2021-03-11                    2173                 4248286\n",
       "1  2021-03-10                    5595                 4246113\n",
       "2  2021-03-09                    6208                 4240518\n",
       "3  2021-03-08                    6790                 4234310\n",
       "4  2021-03-07                    4314                 4227520"
      ]
     },
     "execution_count": 11,
     "metadata": {},
     "output_type": "execute_result"
    }
   ],
   "source": [
    "# Firstly, drop the unneccessary columns from the virus dataset.\n",
    "virus_cases = virus_cases.drop(columns = ['areaType', 'areaName', 'areaCode'])\n",
    "virus_cases.head()"
   ]
  },
  {
   "cell_type": "code",
   "execution_count": 12,
   "metadata": {},
   "outputs": [
    {
     "data": {
      "text/html": [
       "<div>\n",
       "<style scoped>\n",
       "    .dataframe tbody tr th:only-of-type {\n",
       "        vertical-align: middle;\n",
       "    }\n",
       "\n",
       "    .dataframe tbody tr th {\n",
       "        vertical-align: top;\n",
       "    }\n",
       "\n",
       "    .dataframe thead th {\n",
       "        text-align: right;\n",
       "    }\n",
       "</style>\n",
       "<table border=\"1\" class=\"dataframe\">\n",
       "  <thead>\n",
       "    <tr style=\"text-align: right;\">\n",
       "      <th></th>\n",
       "      <th>newCasesBySpecimenDate</th>\n",
       "      <th>cumCasesBySpecimenDate</th>\n",
       "    </tr>\n",
       "    <tr>\n",
       "      <th>date</th>\n",
       "      <th></th>\n",
       "      <th></th>\n",
       "    </tr>\n",
       "  </thead>\n",
       "  <tbody>\n",
       "    <tr>\n",
       "      <th>2020-02-02</th>\n",
       "      <td>2</td>\n",
       "      <td>8</td>\n",
       "    </tr>\n",
       "    <tr>\n",
       "      <th>2020-02-09</th>\n",
       "      <td>6</td>\n",
       "      <td>28</td>\n",
       "    </tr>\n",
       "    <tr>\n",
       "      <th>2020-02-16</th>\n",
       "      <td>1</td>\n",
       "      <td>62</td>\n",
       "    </tr>\n",
       "    <tr>\n",
       "      <th>2020-02-23</th>\n",
       "      <td>2</td>\n",
       "      <td>67</td>\n",
       "    </tr>\n",
       "    <tr>\n",
       "      <th>2020-03-01</th>\n",
       "      <td>58</td>\n",
       "      <td>241</td>\n",
       "    </tr>\n",
       "  </tbody>\n",
       "</table>\n",
       "</div>"
      ],
      "text/plain": [
       "            newCasesBySpecimenDate  cumCasesBySpecimenDate\n",
       "date                                                      \n",
       "2020-02-02                       2                       8\n",
       "2020-02-09                       6                      28\n",
       "2020-02-16                       1                      62\n",
       "2020-02-23                       2                      67\n",
       "2020-03-01                      58                     241"
      ]
     },
     "execution_count": 12,
     "metadata": {},
     "output_type": "execute_result"
    }
   ],
   "source": [
    "# Then convert the date column from days into weeks through resampling.\n",
    "virus_cases['date'] = pd.to_datetime(virus_cases['date'])\n",
    "weekly_virus_cases = virus_cases.resample('W', on='date').sum()\n",
    "weekly_virus_cases.head()"
   ]
  },
  {
   "cell_type": "code",
   "execution_count": 13,
   "metadata": {},
   "outputs": [],
   "source": [
    "# Finally, drop the additional weeks that do not match up since one dataset is updated more regularly than the other.\n",
    "weekly_virus_cases.drop(weekly_virus_cases.tail(0).index,inplace=True)\n",
    "weekly_virus_cases.drop(weekly_virus_cases.tail(1).index,inplace=True)"
   ]
  },
  {
   "cell_type": "markdown",
   "metadata": {},
   "source": [
    "### Step 6: Merge the datasets together."
   ]
  },
  {
   "cell_type": "code",
   "execution_count": 14,
   "metadata": {},
   "outputs": [
    {
     "data": {
      "text/plain": [
       "array(['All industries', '94.1', '94.9', '97.1', '88.0', '91.6', '97.2',\n",
       "       '87.8', '85.3', '74.5', '63.0', '57.3', '48.5', '41.4', '38.2',\n",
       "       '38.3', '35.2', '36.5', '37.1', '37.6', '41.8', '41.4', '43.2',\n",
       "       '39.7', '40.7', '44.5', '44.0', '45.6', '54.1', '54.4', '54.5',\n",
       "       '55.1', '50.1', '53.5', '55.1', '59.4', '61.2', '62.8', '65.6',\n",
       "       '69.7', '69.7', '66.8', '68.3', '69.1', '73.4', '71.7', '66.7',\n",
       "       '69.5', '71.1', '62.8', '61.1', '59.8', '68.3', '73.3', '75.6',\n",
       "       '78.5', '78.6', '78.6', '82.1'], dtype=object)"
      ]
     },
     "execution_count": 14,
     "metadata": {},
     "output_type": "execute_result"
    }
   ],
   "source": [
    "# Here, we are only interested in the 'All industries' row, however you could investigate further specific sectors.\n",
    "# This could be done by selecting the row that corresponds to your industry of choice.\n",
    "\n",
    "all_industries = total_job_adverts.loc[31]\n",
    "all_industries = all_industries [:].values\n",
    "all_industries "
   ]
  },
  {
   "cell_type": "code",
   "execution_count": 15,
   "metadata": {},
   "outputs": [
    {
     "data": {
      "text/html": [
       "<div>\n",
       "<style scoped>\n",
       "    .dataframe tbody tr th:only-of-type {\n",
       "        vertical-align: middle;\n",
       "    }\n",
       "\n",
       "    .dataframe tbody tr th {\n",
       "        vertical-align: top;\n",
       "    }\n",
       "\n",
       "    .dataframe thead th {\n",
       "        text-align: right;\n",
       "    }\n",
       "</style>\n",
       "<table border=\"1\" class=\"dataframe\">\n",
       "  <thead>\n",
       "    <tr style=\"text-align: right;\">\n",
       "      <th></th>\n",
       "      <th>All Industries</th>\n",
       "    </tr>\n",
       "  </thead>\n",
       "  <tbody>\n",
       "    <tr>\n",
       "      <th>1</th>\n",
       "      <td>94.1</td>\n",
       "    </tr>\n",
       "    <tr>\n",
       "      <th>2</th>\n",
       "      <td>94.9</td>\n",
       "    </tr>\n",
       "    <tr>\n",
       "      <th>3</th>\n",
       "      <td>97.1</td>\n",
       "    </tr>\n",
       "    <tr>\n",
       "      <th>4</th>\n",
       "      <td>88.0</td>\n",
       "    </tr>\n",
       "    <tr>\n",
       "      <th>5</th>\n",
       "      <td>91.6</td>\n",
       "    </tr>\n",
       "  </tbody>\n",
       "</table>\n",
       "</div>"
      ],
      "text/plain": [
       "  All Industries\n",
       "1           94.1\n",
       "2           94.9\n",
       "3           97.1\n",
       "4           88.0\n",
       "5           91.6"
      ]
     },
     "execution_count": 15,
     "metadata": {},
     "output_type": "execute_result"
    }
   ],
   "source": [
    "# Let's now stick this array into a dataframe.\n",
    "\n",
    "job_adverts = pd.DataFrame(all_industries)\n",
    "job_adverts.columns = ['All Industries']\n",
    "job_adverts = job_adverts.drop(0)\n",
    "job_adverts.head()"
   ]
  },
  {
   "cell_type": "code",
   "execution_count": 16,
   "metadata": {},
   "outputs": [],
   "source": [
    "# Add the job adverts index to the weekly cases dataset.\n",
    "weekly_virus_cases[\"Job advert index\"] = job_adverts.values"
   ]
  },
  {
   "cell_type": "code",
   "execution_count": 17,
   "metadata": {},
   "outputs": [
    {
     "data": {
      "text/html": [
       "<div>\n",
       "<style scoped>\n",
       "    .dataframe tbody tr th:only-of-type {\n",
       "        vertical-align: middle;\n",
       "    }\n",
       "\n",
       "    .dataframe tbody tr th {\n",
       "        vertical-align: top;\n",
       "    }\n",
       "\n",
       "    .dataframe thead th {\n",
       "        text-align: right;\n",
       "    }\n",
       "</style>\n",
       "<table border=\"1\" class=\"dataframe\">\n",
       "  <thead>\n",
       "    <tr style=\"text-align: right;\">\n",
       "      <th></th>\n",
       "      <th>newCasesBySpecimenDate</th>\n",
       "      <th>cumCasesBySpecimenDate</th>\n",
       "      <th>Job advert index</th>\n",
       "    </tr>\n",
       "    <tr>\n",
       "      <th>date</th>\n",
       "      <th></th>\n",
       "      <th></th>\n",
       "      <th></th>\n",
       "    </tr>\n",
       "  </thead>\n",
       "  <tbody>\n",
       "    <tr>\n",
       "      <th>2020-02-02</th>\n",
       "      <td>2</td>\n",
       "      <td>8</td>\n",
       "      <td>94.1</td>\n",
       "    </tr>\n",
       "    <tr>\n",
       "      <th>2020-02-09</th>\n",
       "      <td>6</td>\n",
       "      <td>28</td>\n",
       "      <td>94.9</td>\n",
       "    </tr>\n",
       "    <tr>\n",
       "      <th>2020-02-16</th>\n",
       "      <td>1</td>\n",
       "      <td>62</td>\n",
       "      <td>97.1</td>\n",
       "    </tr>\n",
       "    <tr>\n",
       "      <th>2020-02-23</th>\n",
       "      <td>2</td>\n",
       "      <td>67</td>\n",
       "      <td>88.0</td>\n",
       "    </tr>\n",
       "    <tr>\n",
       "      <th>2020-03-01</th>\n",
       "      <td>58</td>\n",
       "      <td>241</td>\n",
       "      <td>91.6</td>\n",
       "    </tr>\n",
       "  </tbody>\n",
       "</table>\n",
       "</div>"
      ],
      "text/plain": [
       "            newCasesBySpecimenDate  cumCasesBySpecimenDate Job advert index\n",
       "date                                                                       \n",
       "2020-02-02                       2                       8             94.1\n",
       "2020-02-09                       6                      28             94.9\n",
       "2020-02-16                       1                      62             97.1\n",
       "2020-02-23                       2                      67             88.0\n",
       "2020-03-01                      58                     241             91.6"
      ]
     },
     "execution_count": 17,
     "metadata": {},
     "output_type": "execute_result"
    }
   ],
   "source": [
    "# Rename the dataset, and print.\n",
    "merged = weekly_virus_cases\n",
    "merged.head()"
   ]
  },
  {
   "cell_type": "markdown",
   "metadata": {},
   "source": [
    "### Step 7: Let's Build our Linear Regression Model."
   ]
  },
  {
   "cell_type": "code",
   "execution_count": 18,
   "metadata": {},
   "outputs": [],
   "source": [
    "# Get the two columns we are interested in modeling together from the merged dataset.\n",
    "data = merged[['newCasesBySpecimenDate', 'Job advert index']]\n",
    "\n",
    "# Neural Network Values call\n",
    "neural_data = merged[['newCasesBySpecimenDate', 'Job advert index']]"
   ]
  },
  {
   "cell_type": "code",
   "execution_count": 19,
   "metadata": {},
   "outputs": [],
   "source": [
    "# Set our X and y from this dataset.\n",
    "X = data['newCasesBySpecimenDate'].values.reshape(-1, 1).tolist()\n",
    "y = data['Job advert index'].values.reshape(-1, 1).tolist()"
   ]
  },
  {
   "cell_type": "code",
   "execution_count": 20,
   "metadata": {},
   "outputs": [],
   "source": [
    "# Store them as float values.\n",
    "X = np.array(X, float)\n",
    "y = np.array(y, float)"
   ]
  },
  {
   "cell_type": "code",
   "execution_count": 21,
   "metadata": {},
   "outputs": [],
   "source": [
    "# Perform a test train split on our data.\n",
    "X_train, X_test, y_train, y_test = train_test_split(X, y, test_size=0.3, random_state=101)"
   ]
  },
  {
   "cell_type": "code",
   "execution_count": 22,
   "metadata": {},
   "outputs": [
    {
     "data": {
      "text/plain": [
       "LinearRegression()"
      ]
     },
     "execution_count": 22,
     "metadata": {},
     "output_type": "execute_result"
    }
   ],
   "source": [
    "# Setup our Linear Regression Model and fit it it to our training data.\n",
    "linear_regression_model = LinearRegression()\n",
    "linear_regression_model.fit(X_train,y_train)"
   ]
  },
  {
   "cell_type": "code",
   "execution_count": 23,
   "metadata": {},
   "outputs": [],
   "source": [
    "# Make our predictions. \n",
    "linear_predictions = linear_regression_model.predict(X_test)"
   ]
  },
  {
   "cell_type": "code",
   "execution_count": 24,
   "metadata": {},
   "outputs": [
    {
     "data": {
      "image/png": "[encoded data removed]",
      "text/plain": [
       "<Figure size 576x288 with 1 Axes>"
      ]
     },
     "metadata": {
      "needs_background": "light"
     },
     "output_type": "display_data"
    }
   ],
   "source": [
    "# Plot our model predictions against the test values.\n",
    "\n",
    "plt.figure(figsize=(8, 4))\n",
    "ax = plt.axes()\n",
    "ax.scatter(X, y)\n",
    "ax.plot(X_test, linear_predictions, color='red')\n",
    "ax.set_xlabel('x')\n",
    "ax.set_ylabel('y')\n",
    "ax.axis('tight')\n",
    "plt.show()"
   ]
  },
  {
   "cell_type": "code",
   "execution_count": 25,
   "metadata": {},
   "outputs": [
    {
     "name": "stdout",
     "output_type": "stream",
     "text": [
      "This model is generating an MSE score of: 418.09\n",
      "It is also generating an RMSE score of: 20.45\n",
      "And a R^2 score of: -0.12\n"
     ]
    }
   ],
   "source": [
    "# Finally, report back on the accuracy of our generated model.\n",
    "\n",
    "li_MSE = metrics.mean_squared_error(y_test, linear_predictions)\n",
    "li_RMSE = np.sqrt(metrics.mean_squared_error(y_test, linear_predictions))\n",
    "li_R2 = metrics.r2_score(y_test, linear_predictions)\n",
    "\n",
    "print('This model is generating an MSE score of:', round(li_MSE,2))\n",
    "print('It is also generating an RMSE score of:', round(li_RMSE,2))\n",
    "print('And a R^2 score of:', round(li_R2,2))"
   ]
  },
  {
   "cell_type": "markdown",
   "metadata": {},
   "source": [
    "### Step 8: Build our Logistic Regression Model"
   ]
  },
  {
   "cell_type": "code",
   "execution_count": 26,
   "metadata": {},
   "outputs": [],
   "source": [
    "# Recall our X and y, so it doesn't run through our regression model as continous float values.\n",
    "X = data['newCasesBySpecimenDate'].values.reshape(-1, 1).tolist()\n",
    "y = data['Job advert index'].values.reshape(-1, 1).tolist()"
   ]
  },
  {
   "cell_type": "code",
   "execution_count": 27,
   "metadata": {},
   "outputs": [],
   "source": [
    "# Reperform a test train split on our data.\n",
    "X_train, X_test, y_train, y_test = train_test_split(X, y, test_size=0.3, random_state=101)"
   ]
  },
  {
   "cell_type": "code",
   "execution_count": 28,
   "metadata": {},
   "outputs": [
    {
     "name": "stderr",
     "output_type": "stream",
     "text": [
      "C:\\Users\\Arron\\Anaconda3\\lib\\site-packages\\sklearn\\utils\\validation.py:72: DataConversionWarning: A column-vector y was passed when a 1d array was expected. Please change the shape of y to (n_samples, ), for example using ravel().\n",
      "  return f(**kwargs)\n"
     ]
    },
    {
     "data": {
      "text/plain": [
       "LogisticRegression(random_state=0, solver='liblinear')"
      ]
     },
     "execution_count": 28,
     "metadata": {},
     "output_type": "execute_result"
    }
   ],
   "source": [
    "# Setup our Logistic Regression Model and fit it it to our training data.\n",
    "logistic_regression_model = LogisticRegression(solver='liblinear', random_state=0)\n",
    "logistic_regression_model.fit(X_train, y_train)"
   ]
  },
  {
   "cell_type": "code",
   "execution_count": 29,
   "metadata": {},
   "outputs": [],
   "source": [
    "# Make our predictions. \n",
    "logistic_predictions = logistic_regression_model.predict(X_test)"
   ]
  },
  {
   "cell_type": "code",
   "execution_count": 30,
   "metadata": {},
   "outputs": [
    {
     "data": {
      "image/png": "[encoded data removed]",
      "text/plain": [
       "<Figure size 576x288 with 1 Axes>"
      ]
     },
     "metadata": {
      "needs_background": "light"
     },
     "output_type": "display_data"
    }
   ],
   "source": [
    "# Plot our model predictions against the test values.\n",
    "\n",
    "plt.figure(figsize=(8, 4))\n",
    "ax = plt.axes()\n",
    "ax.scatter(X_test, logistic_predictions)\n",
    "ax.plot(X_test, logistic_predictions, color='red')\n",
    "ax.set_xlabel('x')\n",
    "ax.set_ylabel('y')\n",
    "ax.axis('tight')\n",
    "plt.show()"
   ]
  },
  {
   "cell_type": "code",
   "execution_count": 31,
   "metadata": {},
   "outputs": [],
   "source": [
    "# Convert predictions and test values into a float array.\n",
    "logistic_predictions = np.array(logistic_predictions, float) \n",
    "y_test = np.array(y_test, float)"
   ]
  },
  {
   "cell_type": "code",
   "execution_count": 32,
   "metadata": {},
   "outputs": [
    {
     "name": "stdout",
     "output_type": "stream",
     "text": [
      "This model is generating an MSE score of: 517.47\n",
      "It is also generating an RMSE score of: 22.75\n",
      "And a R^2 score of: -0.39\n"
     ]
    }
   ],
   "source": [
    "# Finally, report back on the accuracy of our generated model.\n",
    "lo_MSE = metrics.mean_squared_error(y_test, logistic_predictions)\n",
    "lo_RMSE = np.sqrt(metrics.mean_squared_error(y_test, logistic_predictions))\n",
    "lo_R2 = metrics.r2_score(y_test, logistic_predictions)\n",
    "\n",
    "print('This model is generating an MSE score of:', round(lo_MSE,2))\n",
    "print('It is also generating an RMSE score of:', round(lo_RMSE,2))\n",
    "print('And a R^2 score of:', round(lo_R2,2))"
   ]
  },
  {
   "cell_type": "markdown",
   "metadata": {},
   "source": [
    "### Step 9: Build our Random Forest Model"
   ]
  },
  {
   "cell_type": "code",
   "execution_count": 33,
   "metadata": {},
   "outputs": [],
   "source": [
    "# Firstly, again let's recall our X and y datasets.\n",
    "X = data['newCasesBySpecimenDate'].values.reshape(-1, 1).tolist()\n",
    "y = data['Job advert index'].values.reshape(-1, 1).tolist()"
   ]
  },
  {
   "cell_type": "code",
   "execution_count": 34,
   "metadata": {},
   "outputs": [],
   "source": [
    "# Store them as float values.\n",
    "X = np.array(X, float)\n",
    "y = np.array(y, float)"
   ]
  },
  {
   "cell_type": "code",
   "execution_count": 35,
   "metadata": {},
   "outputs": [],
   "source": [
    "# Reperform a test train split on our data.\n",
    "X_train, X_test, y_train, y_test = train_test_split(X, y, test_size=0.3, random_state=101)"
   ]
  },
  {
   "cell_type": "code",
   "execution_count": 36,
   "metadata": {},
   "outputs": [
    {
     "name": "stderr",
     "output_type": "stream",
     "text": [
      "C:\\Users\\Arron\\Anaconda3\\lib\\site-packages\\ipykernel_launcher.py:3: DataConversionWarning: A column-vector y was passed when a 1d array was expected. Please change the shape of y to (n_samples,), for example using ravel().\n",
      "  This is separate from the ipykernel package so we can avoid doing imports until\n"
     ]
    },
    {
     "data": {
      "text/plain": [
       "RandomForestRegressor()"
      ]
     },
     "execution_count": 36,
     "metadata": {},
     "output_type": "execute_result"
    }
   ],
   "source": [
    "# Setup our Random Forest Model and fit it it to our training data.\n",
    "random_forest_model = RandomForestRegressor(n_estimators = 100)\n",
    "random_forest_model.fit(X_train, y_train)"
   ]
  },
  {
   "cell_type": "code",
   "execution_count": 37,
   "metadata": {},
   "outputs": [],
   "source": [
    "# Make our predictions. \n",
    "forest_predictions = random_forest_model.predict(X_test)"
   ]
  },
  {
   "cell_type": "code",
   "execution_count": 38,
   "metadata": {},
   "outputs": [
    {
     "data": {
      "image/png": "[encoded data removed]",
      "text/plain": [
       "<Figure size 576x288 with 1 Axes>"
      ]
     },
     "metadata": {
      "needs_background": "light"
     },
     "output_type": "display_data"
    }
   ],
   "source": [
    "# Plot our model predictions against the test values.\n",
    "\n",
    "plt.figure(figsize=(8, 4))\n",
    "ax = plt.axes()\n",
    "ax.scatter(X, y)\n",
    "ax.plot(X_test, forest_predictions, color='red')\n",
    "ax.set_xlabel('x')\n",
    "ax.set_ylabel('y')\n",
    "ax.axis('tight')\n",
    "plt.show()"
   ]
  },
  {
   "cell_type": "code",
   "execution_count": 39,
   "metadata": {},
   "outputs": [
    {
     "name": "stdout",
     "output_type": "stream",
     "text": [
      "This model is generating an MSE score of: 100.05\n",
      "It is also generating an RMSE score of: 10.0\n",
      "And a R^2 score of: 0.73\n"
     ]
    }
   ],
   "source": [
    "# Finally, report back on the accuracy of our generated model.\n",
    "rf_MSE = metrics.mean_squared_error(y_test, forest_predictions)\n",
    "rf_RMSE = np.sqrt(metrics.mean_squared_error(y_test, forest_predictions))\n",
    "rf_R2 = metrics.r2_score(y_test, forest_predictions)\n",
    "\n",
    "print('This model is generating an MSE score of:', round(rf_MSE,2))\n",
    "print('It is also generating an RMSE score of:', round(rf_RMSE,2))\n",
    "print('And a R^2 score of:', round(rf_R2,2))"
   ]
  },
  {
   "cell_type": "markdown",
   "metadata": {},
   "source": [
    "### Step 10: Build our K means clustering model"
   ]
  },
  {
   "cell_type": "code",
   "execution_count": 40,
   "metadata": {},
   "outputs": [],
   "source": [
    "# Firstly, let's get our entire dataset.\n",
    "data = np.array(data).astype(float)"
   ]
  },
  {
   "cell_type": "code",
   "execution_count": 41,
   "metadata": {},
   "outputs": [],
   "source": [
    "# Then, let's perform a test train split on it.\n",
    "train_data, test_data = train_test_split(data, test_size=0.3, random_state=101)"
   ]
  },
  {
   "cell_type": "code",
   "execution_count": 42,
   "metadata": {},
   "outputs": [],
   "source": [
    "# Now, let's set up our 5 clusters for our data.\n",
    "kmeans = KMeans(n_clusters= 5)"
   ]
  },
  {
   "cell_type": "code",
   "execution_count": 43,
   "metadata": {},
   "outputs": [],
   "source": [
    "# So, let's firstly investigate the whole dataset and then focus in on our training and testing sets.\n",
    "All_dataset_predictions = kmeans.fit_predict(data)"
   ]
  },
  {
   "cell_type": "code",
   "execution_count": 44,
   "metadata": {},
   "outputs": [
    {
     "data": {
      "image/png": "[encoded data removed]",
      "text/plain": [
       "<Figure size 576x288 with 1 Axes>"
      ]
     },
     "metadata": {
      "needs_background": "light"
     },
     "output_type": "display_data"
    }
   ],
   "source": [
    "# And graph this.\n",
    "\n",
    "filtered_label0 = data[All_dataset_predictions == 0]\n",
    "filtered_label1 = data[All_dataset_predictions == 1]\n",
    "filtered_label2 = data[All_dataset_predictions == 2]\n",
    "filtered_label3 = data[All_dataset_predictions == 3]\n",
    "filtered_label4 = data[All_dataset_predictions == 4]\n",
    "\n",
    "\n",
    "plt.figure(figsize=(8, 4))\n",
    "ax = plt.axes()\n",
    " \n",
    "ax.scatter(filtered_label0[:,0] , filtered_label0[:,1])\n",
    "ax.scatter(filtered_label1[:,0] , filtered_label1[:,1] , color = 'red')\n",
    "ax.scatter(filtered_label2[:,0] , filtered_label2[:,1] , color = 'black')\n",
    "ax.scatter(filtered_label3[:,0] , filtered_label3[:,1] , color = 'orange')\n",
    "ax.scatter(filtered_label4[:,0] , filtered_label4[:,1] , color = 'purple')\n",
    "\n",
    "ax.set_xlabel('x')\n",
    "ax.set_ylabel('y')\n",
    "ax.set_yticklabels([])\n",
    "ax.axis('tight')\n",
    "plt.show()\n"
   ]
  },
  {
   "cell_type": "code",
   "execution_count": 45,
   "metadata": {},
   "outputs": [
    {
     "data": {
      "image/png": "[encoded data removed]",
      "text/plain": [
       "<Figure size 576x288 with 1 Axes>"
      ]
     },
     "metadata": {
      "needs_background": "light"
     },
     "output_type": "display_data"
    }
   ],
   "source": [
    "plt.figure(figsize=(8, 4))\n",
    "ax = plt.axes()\n",
    "ax.scatter(X, y)\n",
    "ax.plot(data, All_dataset_predictions, color='red')\n",
    "ax.set_xlabel('x')\n",
    "ax.set_ylabel('y')\n",
    "ax.axis('tight')\n",
    "plt.show()"
   ]
  },
  {
   "cell_type": "code",
   "execution_count": 46,
   "metadata": {},
   "outputs": [],
   "source": [
    "# Now, let's focus in on our training and testing sets.\n",
    "kmeans.fit(train_data)\n",
    "training_data_prediction = kmeans.predict(test_data)"
   ]
  },
  {
   "cell_type": "code",
   "execution_count": 47,
   "metadata": {},
   "outputs": [
    {
     "data": {
      "image/png": "[encoded data removed]",
      "text/plain": [
       "<Figure size 576x288 with 1 Axes>"
      ]
     },
     "metadata": {
      "needs_background": "light"
     },
     "output_type": "display_data"
    }
   ],
   "source": [
    "# And again, graph this accordingly.\n",
    "\n",
    "filtered_label0 = test_data[training_data_prediction == 0]\n",
    "filtered_label1 = test_data[training_data_prediction == 1]\n",
    "filtered_label2 = test_data[training_data_prediction == 2]\n",
    "filtered_label3 = test_data[training_data_prediction == 3]\n",
    "filtered_label4 = test_data[training_data_prediction == 4]\n",
    "\n",
    "\n",
    "plt.figure(figsize=(8, 4))\n",
    "ax = plt.axes()\n",
    " \n",
    "ax.scatter(filtered_label0[:,0] , filtered_label0[:,1])\n",
    "ax.scatter(filtered_label1[:,0] , filtered_label1[:,1] , color = 'red')\n",
    "ax.scatter(filtered_label2[:,0] , filtered_label2[:,1] , color = 'black')\n",
    "ax.scatter(filtered_label3[:,0] , filtered_label3[:,1] , color = 'orange')\n",
    "ax.scatter(filtered_label4[:,0] , filtered_label4[:,1] , color = 'purple')\n",
    "\n",
    "\n",
    "ax.set_xlabel('x')\n",
    "ax.set_ylabel('y')\n",
    "ax.set_yticklabels([])\n",
    "ax.axis('tight')\n",
    "plt.show()"
   ]
  },
  {
   "cell_type": "code",
   "execution_count": 48,
   "metadata": {},
   "outputs": [
    {
     "data": {
      "image/png": "[encoded data removed]",
      "text/plain": [
       "<Figure size 576x288 with 1 Axes>"
      ]
     },
     "metadata": {
      "needs_background": "light"
     },
     "output_type": "display_data"
    }
   ],
   "source": [
    "plt.figure(figsize=(8, 4))\n",
    "ax = plt.axes()\n",
    "ax.scatter(X, y)\n",
    "ax.plot(test_data, training_data_prediction, color='red')\n",
    "ax.set_xlabel('x')\n",
    "ax.set_ylabel('y')\n",
    "ax.axis('tight')\n",
    "plt.show()"
   ]
  },
  {
   "cell_type": "code",
   "execution_count": 49,
   "metadata": {},
   "outputs": [],
   "source": [
    "# Let's now get our y testing values in float form alognside our training data predictions.\n",
    "y_test = np.array(y_test, float)\n",
    "training_data_prediction= np.array(training_data_prediction, float)"
   ]
  },
  {
   "cell_type": "code",
   "execution_count": 50,
   "metadata": {},
   "outputs": [
    {
     "name": "stdout",
     "output_type": "stream",
     "text": [
      "This model is generating an MSE score of: 3522.35\n",
      "It is also generating an RMSE score of: 59.35\n",
      "And a R^2 score of: -8.46\n"
     ]
    }
   ],
   "source": [
    "# Finally, report back on the accuracy of our generated model.\n",
    "km_MSE = metrics.mean_squared_error(y_test, training_data_prediction)\n",
    "km_RMSE = np.sqrt(metrics.mean_squared_error(y_test, training_data_prediction))\n",
    "km_R2 = metrics.r2_score(y_test, training_data_prediction)\n",
    "\n",
    "print('This model is generating an MSE score of:', round(km_MSE,2))\n",
    "print('It is also generating an RMSE score of:', round(km_RMSE,2))\n",
    "print('And a R^2 score of:', round(km_R2,2))"
   ]
  },
  {
   "cell_type": "markdown",
   "metadata": {},
   "source": [
    "### Step 11: Let's build our neural network model."
   ]
  },
  {
   "cell_type": "code",
   "execution_count": 51,
   "metadata": {},
   "outputs": [],
   "source": [
    "# Firstly, again let's recall our X and y daatsets.\n",
    "X = neural_data['newCasesBySpecimenDate'].values.reshape(-1, 1).tolist()\n",
    "y = neural_data['Job advert index'].values.reshape(-1, 1).tolist()"
   ]
  },
  {
   "cell_type": "code",
   "execution_count": 52,
   "metadata": {},
   "outputs": [],
   "source": [
    "# Store them as float values.\n",
    "X = np.array(X, float)\n",
    "y = np.array(y, float)"
   ]
  },
  {
   "cell_type": "code",
   "execution_count": 53,
   "metadata": {},
   "outputs": [],
   "source": [
    "# Then, let's perform another test train split.\n",
    "X_train, X_test, y_train, y_test = train_test_split(X, y, test_size=0.3, random_state=101)"
   ]
  },
  {
   "cell_type": "code",
   "execution_count": 54,
   "metadata": {},
   "outputs": [
    {
     "data": {
      "text/plain": [
       "StandardScaler()"
      ]
     },
     "execution_count": 54,
     "metadata": {},
     "output_type": "execute_result"
    }
   ],
   "source": [
    "# Now, Let's scaler down our X_training set. \n",
    "scaler = StandardScaler()\n",
    "scaler.fit(X_train)"
   ]
  },
  {
   "cell_type": "code",
   "execution_count": 55,
   "metadata": {},
   "outputs": [],
   "source": [
    "# And transform our training and testing sets likewise.\n",
    "X_train = scaler.transform(X_train)\n",
    "X_test = scaler.transform(X_test)"
   ]
  },
  {
   "cell_type": "code",
   "execution_count": 56,
   "metadata": {},
   "outputs": [
    {
     "name": "stderr",
     "output_type": "stream",
     "text": [
      "C:\\Users\\Arron\\Anaconda3\\lib\\site-packages\\sklearn\\utils\\validation.py:72: DataConversionWarning: A column-vector y was passed when a 1d array was expected. Please change the shape of y to (n_samples, ), for example using ravel().\n",
      "  return f(**kwargs)\n",
      "C:\\Users\\Arron\\Anaconda3\\lib\\site-packages\\sklearn\\neural_network\\_multilayer_perceptron.py:585: ConvergenceWarning: Stochastic Optimizer: Maximum iterations (1000) reached and the optimization hasn't converged yet.\n",
      "  % self.max_iter, ConvergenceWarning)\n"
     ]
    },
    {
     "data": {
      "text/plain": [
       "MLPRegressor(hidden_layer_sizes=(20, 20, 20), max_iter=1000)"
      ]
     },
     "execution_count": 56,
     "metadata": {},
     "output_type": "execute_result"
    }
   ],
   "source": [
    "# Setup our neural network model and fit it it to our training data.\n",
    "neural_network_model = MLPRegressor(hidden_layer_sizes=(20, 20, 20), max_iter=1000)\n",
    "neural_network_model.fit(X_train, y_train)"
   ]
  },
  {
   "cell_type": "code",
   "execution_count": 57,
   "metadata": {},
   "outputs": [],
   "source": [
    "# Make our predictions.\n",
    "neural_network_predictions = neural_network_model.predict(X_test)"
   ]
  },
  {
   "cell_type": "code",
   "execution_count": 58,
   "metadata": {},
   "outputs": [
    {
     "name": "stderr",
     "output_type": "stream",
     "text": [
      "C:\\Users\\Arron\\Anaconda3\\lib\\site-packages\\seaborn\\_decorators.py:43: FutureWarning: Pass the following variables as keyword args: x, y. From version 0.12, the only valid positional argument will be `data`, and passing other arguments without an explicit keyword will result in an error or misinterpretation.\n",
      "  FutureWarning\n"
     ]
    },
    {
     "data": {
      "text/plain": [
       "<AxesSubplot:>"
      ]
     },
     "execution_count": 58,
     "metadata": {},
     "output_type": "execute_result"
    },
    {
     "data": {
      "image/png": "[encoded data removed]",
      "text/plain": [
       "<Figure size 720x720 with 1 Axes>"
      ]
     },
     "metadata": {
      "needs_background": "light"
     },
     "output_type": "display_data"
    }
   ],
   "source": [
    "# Let's use a Regplot to graph and see how well our model is performing.\n",
    "plt.figure(figsize=(10,10))\n",
    "sns.regplot(y_test, neural_network_predictions, fit_reg=True, scatter_kws={\"s\": 100})"
   ]
  },
  {
   "cell_type": "code",
   "execution_count": 59,
   "metadata": {},
   "outputs": [
    {
     "data": {
      "text/plain": [
       "[<matplotlib.lines.Line2D at 0x222b8adb160>]"
      ]
     },
     "execution_count": 59,
     "metadata": {},
     "output_type": "execute_result"
    },
    {
     "data": {
      "image/png": "[encoded data removed]",
      "text/plain": [
       "<Figure size 432x288 with 1 Axes>"
      ]
     },
     "metadata": {
      "needs_background": "light"
     },
     "output_type": "display_data"
    }
   ],
   "source": [
    "# Let's also take a look at the loss curve for our model.\n",
    "plt.plot(neural_network_model.loss_curve_)"
   ]
  },
  {
   "cell_type": "code",
   "execution_count": 60,
   "metadata": {},
   "outputs": [],
   "source": [
    "# Now, let's convert our predictions and test values into a float array.\n",
    "y_test = np.array(y_test, float)\n",
    "neural_network_predictions = np.array(neural_network_predictions, float)"
   ]
  },
  {
   "cell_type": "code",
   "execution_count": 61,
   "metadata": {},
   "outputs": [
    {
     "name": "stdout",
     "output_type": "stream",
     "text": [
      "This model is generating an MSE score of: 412.94\n",
      "It is also generating an RMSE score of: -0.11\n",
      "And a R^2 score of: -0.11\n"
     ]
    }
   ],
   "source": [
    "# And finally, report back on the accuracy of our generated model.\n",
    "nn_MSE = metrics.mean_squared_error(y_test, neural_network_predictions)\n",
    "nn_RMSE = np.sqrt(metrics.mean_squared_error(y_test, neural_network_predictions))\n",
    "nn_R2 = metrics.r2_score(y_test, neural_network_predictions)\n",
    "\n",
    "print('This model is generating an MSE score of:', round(nn_MSE,2))\n",
    "print('It is also generating an RMSE score of:', round(nn_R2,2))\n",
    "print('And a R^2 score of:', round(nn_R2,2))"
   ]
  },
  {
   "cell_type": "markdown",
   "metadata": {},
   "source": [
    "### Step 12: Compare all the models to see which one performs most optimally."
   ]
  },
  {
   "cell_type": "code",
   "execution_count": 62,
   "metadata": {},
   "outputs": [],
   "source": [
    "# Let's get the data from all our accuracy results\n",
    "accuracy_results = {'MSE Score': [round(li_MSE,2), round(lo_MSE,2), round(rf_MSE,2), round(km_MSE,2), round(nn_MSE,2)],\n",
    "        'RMSE Score': [round(li_RMSE,2), round(lo_RMSE,2), round(rf_RMSE,2), round(km_RMSE,2), round(nn_RMSE,2)],\n",
    "        'R^2 Score' : [round(li_MSE,2), round(lo_R2,2), round(rf_R2,2), round(km_R2,2), round(nn_R2,2)]}"
   ]
  },
  {
   "cell_type": "code",
   "execution_count": 63,
   "metadata": {},
   "outputs": [
    {
     "data": {
      "text/html": [
       "<div>\n",
       "<style scoped>\n",
       "    .dataframe tbody tr th:only-of-type {\n",
       "        vertical-align: middle;\n",
       "    }\n",
       "\n",
       "    .dataframe tbody tr th {\n",
       "        vertical-align: top;\n",
       "    }\n",
       "\n",
       "    .dataframe thead th {\n",
       "        text-align: right;\n",
       "    }\n",
       "</style>\n",
       "<table border=\"1\" class=\"dataframe\">\n",
       "  <thead>\n",
       "    <tr style=\"text-align: right;\">\n",
       "      <th></th>\n",
       "      <th>MSE Score</th>\n",
       "      <th>RMSE Score</th>\n",
       "      <th>R^2 Score</th>\n",
       "    </tr>\n",
       "  </thead>\n",
       "  <tbody>\n",
       "    <tr>\n",
       "      <th>Linear Regression Model</th>\n",
       "      <td>418.09</td>\n",
       "      <td>20.45</td>\n",
       "      <td>418.09</td>\n",
       "    </tr>\n",
       "    <tr>\n",
       "      <th>Logistic Regression Model</th>\n",
       "      <td>517.47</td>\n",
       "      <td>22.75</td>\n",
       "      <td>-0.39</td>\n",
       "    </tr>\n",
       "    <tr>\n",
       "      <th>Random Forest Model</th>\n",
       "      <td>100.05</td>\n",
       "      <td>10.00</td>\n",
       "      <td>0.73</td>\n",
       "    </tr>\n",
       "    <tr>\n",
       "      <th>K Means Clustering Model</th>\n",
       "      <td>3522.35</td>\n",
       "      <td>59.35</td>\n",
       "      <td>-8.46</td>\n",
       "    </tr>\n",
       "    <tr>\n",
       "      <th>Neural Network Model</th>\n",
       "      <td>412.94</td>\n",
       "      <td>20.32</td>\n",
       "      <td>-0.11</td>\n",
       "    </tr>\n",
       "  </tbody>\n",
       "</table>\n",
       "</div>"
      ],
      "text/plain": [
       "                           MSE Score  RMSE Score  R^2 Score\n",
       "Linear Regression Model       418.09       20.45     418.09\n",
       "Logistic Regression Model     517.47       22.75      -0.39\n",
       "Random Forest Model           100.05       10.00       0.73\n",
       "K Means Clustering Model     3522.35       59.35      -8.46\n",
       "Neural Network Model          412.94       20.32      -0.11"
      ]
     },
     "execution_count": 63,
     "metadata": {},
     "output_type": "execute_result"
    }
   ],
   "source": [
    "# And stick in into a pandas dataframe.\n",
    "results = pd.DataFrame(accuracy_results, columns = ['MSE Score','RMSE Score', 'R^2 Score'], \n",
    "index=['Linear Regression Model','Logistic Regression Model','Random Forest Model','K Means Clustering Model', 'Neural Network Model'])\n",
    "results"
   ]
  }
 ],
 "metadata": {
  "kernelspec": {
   "display_name": "Python 3",
   "language": "python",
   "name": "python3"
  },
  "language_info": {
   "codemirror_mode": {
    "name": "ipython",
    "version": 3
   },
   "file_extension": ".py",
   "mimetype": "text/x-python",
   "name": "python",
   "nbconvert_exporter": "python",
   "pygments_lexer": "ipython3",
   "version": "3.6.13"
  }
 },
 "nbformat": 4,
 "nbformat_minor": 4
}
